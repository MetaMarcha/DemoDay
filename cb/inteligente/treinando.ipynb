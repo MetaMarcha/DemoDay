{
 "cells": [
  {
   "cell_type": "code",
   "execution_count": 17,
   "id": "71fb76c6",
   "metadata": {},
   "outputs": [
    {
     "name": "stdout",
     "output_type": "stream",
     "text": [
      "✔ Download and installation successful\n",
      "You can now load the package via spacy.load('en_core_web_sm')\n"
     ]
    }
   ],
   "source": [
    "from chatterbot import ChatBot\n",
    "from chatterbot.trainers import ListTrainer\n",
    "\n",
    "from spacy.cli import download\n",
    "\n",
    "download(\"en_core_web_sm\")\n",
    "\n",
    "class ENGSM:\n",
    "    ISO_639_1 = 'en_core_web_sm'"
   ]
  },
  {
   "cell_type": "code",
   "execution_count": null,
   "id": "a28c520c",
   "metadata": {
    "scrolled": true
   },
   "outputs": [],
   "source": [
    "chatbot = ChatBot(\"Miranda\", tagger_language=ENGSM)\n",
    "\n",
    "conversa = [\n",
    "    \"Oi\", \"Olá\",\n",
    "    \"Salve!\",\n",
    "    \"Pode me ajudar?\",\n",
    "    \"Me diga com o que precisa de ajuda e vou te responder!\",\n",
    "    \"Preciso de ajuda\",\n",
    "    \"Me diga com o que precisa de ajuda e vou te responder!\",\n",
    "    \"Sobre o Meta Marcha\",\n",
    "    \"O Meta Marcha é um projeto de ERP social desenvolvido por estudantes do Instituto PROA, tendo como objetivo ajudar empreendedores na gestão de sua empresa e somando também conhecimentos através de cursos.\",\n",
    "    \"Sobre os Planos\",\n",
    "    \"Dentre os quatro, você pode escolher o plano que melhor te agrade e assassinar com cartão de crédito ou débito. Todos os nossos planos têm teste grátis de 30 dias, com cobrança normal após esse prazo.\"\n",
    "    \"Qual o Preço\",\n",
    "    \"Nossos planos têm um valor social que consideramos custo benefício, visando te ajudar por <um baixo preço e ao mesmo tempo manter nossa plataforma online. A partir de R$ 19,90 você tem acesso à diversas ferramentas que auxiliarão na manutenção de sua empresa, incluindo controle de estoque e de caixa.\",\n",
    "    \"Meus Dados\",\n",
    "    \"Mantemos um código de ética fortemente baseado na LGPD (Lei Geral de Proteção de Dados Pessoais), em vigor desde 2020. Nela, temos o dever de proteger seus dados com o mais extremo sigilo, além de atualizar constantemente sobre o modo como trabalhamos. Você pode ler os nossos Termos de Uso para saber mais sobre a equipe e o tratamento de dados.\",\n",
    "    \"LGPD Lei Geral de Proteção de Dados Pessoais\",\n",
    "    \"Mantemos um código de ética fortemente baseado na LGPD (Lei Geral de Proteção de Dados Pessoais), em vigor desde 2020. Nela, temos o dever de proteger seus dados com o mais extremo sigilo, além de atualizar constantemente sobre o modo como trabalhamos. Você pode ler os nossos Termos de Uso para saber mais sobre a equipe e o tratamento de dados.\",\n",
    "    \"Quem são os desenvolvedores\",\n",
    "    \"O time de desenvolvimento é composto por programadores do Instituto PROA, cuja missão é ajudar você a gerir o seu negócio. Você pode nos conhecer na aba Devs em nosso site, disponível também nossos contatos e redes sociais :)\",\n",
    "    \"Método de pagamento\",\n",
    "    \"Aceitamos pagamento em cartão de débito ou crédito, tendo cobrança automática em sua conta sem necessidade da renovação manual. Você pode cancelar a qualquer momento e sem precisar justificar.\",\n",
    "    \"Tipo de pagamento\",\n",
    "    \"Aceitamos pagamento em cartão de débito ou crédito, tendo cobrança automática em sua conta sem necessidade da renovação manual. Você pode cancelar a qualquer momento e sem precisar justificar.\",\n",
    "    \"Aceita PIX?\", \n",
    "    \"Por uma questão de integridade, no momento aceitamos apenas cartões. Pagamentos via PIX requerem ativação manual, o que quer dizer que todo mês você teria de renovar manualmente sua assinatura e, caso esquecesse por algum tempo, sua conta perderia o acesso às nossas ferramentas até que se lembrasse de renovar a assinatura sozinho. Visando sempre o melhor para os cientes, o Meta Marcha trabalha apenas com métodos de pagamento instantâneos, mas apesar disso você pode cancelar a assinatura quando quiser e sem precisar se justificar.\",\n",
    "    \"Pagamento via PIX\",\n",
    "    \"Por uma questão de integridade, no momento aceitamos apenas cartões. Pagamentos via PIX requerem ativação manual, o que quer dizer que todo mês você teria de renovar manualmente sua assinatura e, caso esquecesse por algum tempo, sua conta perderia o acesso às nossas ferramentas até que se lembrasse de renovar a assinatura sozinho. Visando sempre o melhor para os cientes, o Meta Marcha trabalha apenas com métodos de pagamento instantâneos, mas apesar disso você pode cancelar a assinatura quando quiser e sem precisar se justificar.\",\n",
    "    \"Aceita boleto?\", \n",
    "    \"Por uma questão de segurança, no momento aceitamos apenas cartões. Uma compra em boleto demora para ser efetuada, o que poderá gerar possíveis transtornos durante a pausa de sua assinatura. Pense que, durante os dias em que o boleto estará sendo processado, você não poderá usar nossas ferramentas, inevitavelmente prejudicando a gestão de sua empresa. Visando sempre o melhor para os cientes, o Meta Marcha trabalha apenas com métodos de pagamento instantâneos.\",\n",
    "    \"Pagamento via boleto\",\n",
    "    \"Por uma questão de segurança, no momento aceitamos apenas cartões. Uma compra em boleto demora para ser efetuada, o que poderá gerar possíveis transtornos durante a pausa de sua assinatura. Pense que, durante os dias em que o boleto estará sendo processado, você não poderá usar nossas ferramentas, inevitavelmente prejudicando a gestão de sua empresa. Visando sempre o melhor para os cientes, o Meta Marcha trabalha apenas com métodos de pagamento instantâneos.\",\n",
    "    \"Cancelar assinatura\", \n",
    "    \"\"\"Para cancelar sua assinatura, siga os passos abaixo:\n",
    "    1. Vá até o seu perfil\n",
    "    2. Acesse a aba de CONFIGURAÇÕES\n",
    "    3. Selecione PLANOS\n",
    "    4. Role a página e selecione CANCELAR ASSINATURA\n",
    "    E pronto! Mas lembre-se de que não terá mais acesso às nossas ferramentas de gestão e nem ao conteúdo dos blogs.\"\"\",\n",
    "    \"Quero cancelar\", \n",
    "    \"\"\"Para cancelar sua assinatura, siga os passos abaixo:\n",
    "    1. Vá até o seu perfil\n",
    "    2. Acesse a aba de CONFIGURAÇÕES\n",
    "    3. Selecione PLANOS\n",
    "    4. Role a página e selecione CANCELAR ASSINATURA\n",
    "    E pronto! Mas lembre-se de que não terá mais acesso às nossas ferramentas de gestão e nem ao conteúdo dos blogs.\"\"\",\n",
    "]\n",
    "\n",
    "trainer = ListTrainer(chatbot)\n",
    "trainer.train(conversa)"
   ]
  },
  {
   "cell_type": "markdown",
   "id": "c1ea3c9d",
   "metadata": {},
   "source": [
    "Nota: o bot compreende palavras chaves, portanto não é necessário o cliente escrever literalmente uma frase exatamente como está no código. Ex: se ele digitar somente \"PIX\" o bot já entende que a frase que ele quis dizer é a \"Aceita PIX?\" ou \"Pagamento via PIX\"."
   ]
  },
  {
   "cell_type": "code",
   "execution_count": null,
   "id": "4c615c32",
   "metadata": {
    "scrolled": true
   },
   "outputs": [],
   "source": [
    "while True:\n",
    "    mensagem = input(\"Com o que voce precisa de ajuda hoje? \")\n",
    "    if mensagem == \"fechar\":\n",
    "        break\n",
    "    resposta = chatbot.get_response(mensagem)\n",
    "    print(resposta)"
   ]
  },
  {
   "cell_type": "code",
   "execution_count": null,
   "id": "a0da5abe",
   "metadata": {},
   "outputs": [],
   "source": [
    "chatbot.storage.drop()"
   ]
  },
  {
   "cell_type": "code",
   "execution_count": null,
   "id": "6d7703c5",
   "metadata": {},
   "outputs": [],
   "source": []
  }
 ],
 "metadata": {
  "kernelspec": {
   "display_name": "Python 3 (ipykernel)",
   "language": "python",
   "name": "python3"
  },
  "language_info": {
   "codemirror_mode": {
    "name": "ipython",
    "version": 3
   },
   "file_extension": ".py",
   "mimetype": "text/x-python",
   "name": "python",
   "nbconvert_exporter": "python",
   "pygments_lexer": "ipython3",
   "version": "3.9.12"
  }
 },
 "nbformat": 4,
 "nbformat_minor": 5
}
