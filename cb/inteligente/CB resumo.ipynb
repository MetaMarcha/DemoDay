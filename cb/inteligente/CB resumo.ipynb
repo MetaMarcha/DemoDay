{
 "cells": [
  {
   "cell_type": "code",
   "execution_count": null,
   "id": "6823f127",
   "metadata": {},
   "outputs": [],
   "source": [
    "from chatterbot import ChatBot\n",
    "from chatterbot.trainers import ListTrainer"
   ]
  },
  {
   "cell_type": "code",
   "execution_count": null,
   "id": "5097dca9",
   "metadata": {},
   "outputs": [],
   "source": [
    "chatbot = ChatBot(\"Miranda\", tagger_language=ENGSM)\n",
    "\n",
    "conversa = [\n",
    "    \"Oi\",\n",
    "    \"Salve!\",\n",
    "    \"Sobre o Meta Marcha\",\n",
    "    \"O Meta Marcha é um projeto de ERP social desenvolvido por estudantes do Instituto PROA, tendo como objetivo ajudar empreendedores na gestão de sua empresa e somando também conhecimentos através de cursos.\",\n",
    "    \"Sobre os Planos\",\n",
    "    \"Dentre os quatro, você pode escolher o plano que melhor te agrade e assassinar com cartão de crédito ou débito. Todos os nossos planos têm teste grátis de 30 dias, com cobrança normal após esse prazo.\"\n",
    "    \"Qual o Preço\",\n",
    "    \"Nossos planos têm um valor social que consideramos custo benefício, visando te ajudar por <um baixo preço e ao mesmo tempo manter nossa plataforma online. A partir de R$ 19,90 você tem acesso à diversas ferramentas que auxiliarão na manutenção de sua empresa, incluindo controle de estoque e de caixa.\",\n",
    "    \"Meus Dados\",\n",
    "    \"Mantemos um código de ética fortemente baseado na LGPD (Lei Geral de Proteção de Dados Pessoais), em vigor desde 2020. Nela, temos o dever de proteger seus dados com o mais extremo sigilo, além de atualizar constantemente sobre o modo como trabalhamos. Você pode ler os nossos Termos de Uso para saber mais sobre a equipe e o tratamento de dados.\",\n",
    "    \"LGPD Lei Geral de Proteção de Dados Pessoais\",\n",
    "    \"Mantemos um código de ética fortemente baseado na LGPD (Lei Geral de Proteção de Dados Pessoais), em vigor desde 2020. Nela, temos o dever de proteger seus dados com o mais extremo sigilo, além de atualizar constantemente sobre o modo como trabalhamos. Você pode ler os nossos Termos de Uso para saber mais sobre a equipe e o tratamento de dados.\"\n",
    "]\n",
    "\n",
    "trainer = ListTrainer(chatbot)\n",
    "trainer.train(conversa)"
   ]
  },
  {
   "cell_type": "code",
   "execution_count": null,
   "id": "db03bb32",
   "metadata": {},
   "outputs": [],
   "source": [
    "while True:\n",
    "    mensagem = input(\"Com o que voce precisa de ajuda hoje? \")\n",
    "    if mensagem == \"fechar\":\n",
    "        break\n",
    "    resposta = chatbot.get_response(mensagem)\n",
    "    print(resposta)"
   ]
  },
  {
   "cell_type": "code",
   "execution_count": null,
   "id": "999eb568",
   "metadata": {},
   "outputs": [],
   "source": [
    "chatbot.storage.drop()"
   ]
  },
  {
   "cell_type": "code",
   "execution_count": null,
   "id": "6369c432",
   "metadata": {},
   "outputs": [],
   "source": []
  }
 ],
 "metadata": {
  "kernelspec": {
   "display_name": "Python 3 (ipykernel)",
   "language": "python",
   "name": "python3"
  },
  "language_info": {
   "codemirror_mode": {
    "name": "ipython",
    "version": 3
   },
   "file_extension": ".py",
   "mimetype": "text/x-python",
   "name": "python",
   "nbconvert_exporter": "python",
   "pygments_lexer": "ipython3",
   "version": "3.9.12"
  }
 },
 "nbformat": 4,
 "nbformat_minor": 5
}
